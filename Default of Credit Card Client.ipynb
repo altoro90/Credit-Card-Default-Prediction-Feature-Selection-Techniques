{
 "cells": [
  {
   "cell_type": "code",
   "execution_count": 19,
   "id": "39ea4fca",
   "metadata": {},
   "outputs": [],
   "source": [
    "import pandas as pd\n",
    "from sklearn.linear_model import LinearRegression\n",
    "from sklearn.metrics import r2_score\n",
    "from sklearn.model_selection import train_test_split\n",
    "from sklearn.metrics import mean_squared_error\n",
    "import statsmodels.api as sm"
   ]
  },
  {
   "cell_type": "code",
   "execution_count": 2,
   "id": "40901f36",
   "metadata": {},
   "outputs": [],
   "source": [
    "# Load the dataset\n",
    "data = pd.read_csv('default_of_credit_card_clients.csv')aa"
   ]
  },
  {
   "cell_type": "code",
   "execution_count": 8,
   "id": "9b7085bf",
   "metadata": {},
   "outputs": [
    {
     "name": "stdout",
     "output_type": "stream",
     "text": [
      "0  ID  LIMIT_BAL  SEX  EDUCATION  MARRIAGE  AGE  PAY_0  PAY_2  PAY_3  PAY_4  \\\n",
      "1   1      20000    2          2         1   24      2      2     -1     -1   \n",
      "2   2     120000    2          2         2   26     -1      2      0      0   \n",
      "3   3      90000    2          2         2   34      0      0      0      0   \n",
      "4   4      50000    2          2         1   37      0      0      0      0   \n",
      "5   5      50000    1          2         1   57     -1      0     -1      0   \n",
      "\n",
      "0  ...  BILL_AMT4  BILL_AMT5  BILL_AMT6  PAY_AMT1  PAY_AMT2  PAY_AMT3  \\\n",
      "1  ...          0          0          0         0       689         0   \n",
      "2  ...       3272       3455       3261         0      1000      1000   \n",
      "3  ...      14331      14948      15549      1518      1500      1000   \n",
      "4  ...      28314      28959      29547      2000      2019      1200   \n",
      "5  ...      20940      19146      19131      2000     36681     10000   \n",
      "\n",
      "0  PAY_AMT4  PAY_AMT5  PAY_AMT6  default payment next month  \n",
      "1         0         0         0                           1  \n",
      "2      1000         0      2000                           1  \n",
      "3      1000      1000      5000                           0  \n",
      "4      1100      1069      1000                           0  \n",
      "5      9000       689       679                           0  \n",
      "\n",
      "[5 rows x 25 columns]\n"
     ]
    }
   ],
   "source": [
    "print(data.head())"
   ]
  },
  {
   "cell_type": "code",
   "execution_count": 3,
   "id": "c5defeff",
   "metadata": {},
   "outputs": [],
   "source": [
    "# Set the first row as header and drop the current header\n",
    "data.columns = data.iloc[0]\n",
    "data = data.drop(0)\n"
   ]
  },
  {
   "cell_type": "code",
   "execution_count": 4,
   "id": "7773af6d",
   "metadata": {},
   "outputs": [],
   "source": [
    "# Convert the data to numeric type\n",
    "data = data.apply(pd.to_numeric, errors='ignore')\n"
   ]
  },
  {
   "cell_type": "code",
   "execution_count": 5,
   "id": "b9eefac3",
   "metadata": {},
   "outputs": [],
   "source": [
    "# Split the dataset into features and target variable\n",
    "X = data.drop(columns=['ID', 'default payment next month'])\n",
    "y = data['default payment next month']"
   ]
  },
  {
   "cell_type": "code",
   "execution_count": 6,
   "id": "e402609d",
   "metadata": {},
   "outputs": [],
   "source": [
    "# Split data into training and testing set\n",
    "X_train, X_test, y_train, y_test = train_test_split(X, y, test_size=0.2, random_state=42)\n"
   ]
  },
  {
   "cell_type": "code",
   "execution_count": 17,
   "id": "048924c1",
   "metadata": {},
   "outputs": [
    {
     "name": "stdout",
     "output_type": "stream",
     "text": [
      "Selected Features: ['PAY_0', 'BILL_AMT1', 'PAY_2', 'PAY_AMT1', 'MARRIAGE', 'PAY_3', 'PAY_AMT5', 'EDUCATION', 'PAY_5', 'PAY_AMT4', 'BILL_AMT2', 'LIMIT_BAL', 'PAY_AMT2', 'BILL_AMT6', 'SEX', 'PAY_AMT3', 'AGE']\n"
     ]
    }
   ],
   "source": [
    "# Forward Selection\n",
    "selected_features = []\n",
    "best_score = float('inf')  # Initialize with a high value\n",
    "\n",
    "while len(selected_features) < len(X.columns):\n",
    "    remaining_features = [feature for feature in X.columns if feature not in selected_features]\n",
    "    scores = []\n",
    "\n",
    "    for feature in remaining_features:\n",
    "        model = LinearRegression()\n",
    "        features_to_use = selected_features + [feature]\n",
    "        model.fit(X_train[features_to_use], y_train)\n",
    "        y_pred = model.predict(X_test[features_to_use])\n",
    "        score = mean_squared_error(y_test, y_pred)\n",
    "        scores.append((feature, score))\n",
    "\n",
    "    # Select the feature that improves the model the most\n",
    "    best_feature, best_score_for_feature = min(scores, key=lambda x: x[1])\n",
    "    \n",
    "    # Check if adding this feature improves the model\n",
    "    if best_score_for_feature < best_score:\n",
    "        selected_features.append(best_feature)\n",
    "        best_score = best_score_for_feature\n",
    "    else:\n",
    "        break  # Stop if adding more features does not improve the model\n",
    "\n",
    "# Display the selected features\n",
    "print(\"Selected Features:\", selected_features)"
   ]
  },
  {
   "cell_type": "code",
   "execution_count": 20,
   "id": "68e7f694",
   "metadata": {},
   "outputs": [
    {
     "name": "stdout",
     "output_type": "stream",
     "text": [
      "Selected Features: Index(['SEX', 'MARRIAGE', 'AGE', 'PAY_0', 'PAY_2', 'PAY_3', 'PAY_5',\n",
      "       'BILL_AMT1', 'PAY_AMT1', 'PAY_AMT2', 'PAY_AMT5'],\n",
      "      dtype='object', name=0)\n"
     ]
    }
   ],
   "source": [
    "# Backward Elimination\n",
    "while len(X.columns) > 1:  # Keep at least one feature\n",
    "    # Fit the model\n",
    "    model = sm.OLS(y, X).fit()\n",
    "    \n",
    "    # Get the p-values for each feature\n",
    "    p_values = model.pvalues[1:]  # Exclude the constant term\n",
    "    \n",
    "    # Identify the feature with the highest p-value\n",
    "    feature_to_remove = p_values.idxmax()\n",
    "    \n",
    "    # Check if the highest p-value is above a certain threshold (e.g., 0.05)\n",
    "    if p_values.max() > 0.05:\n",
    "        # Remove the feature with the highest p-value\n",
    "        X = X.drop(columns=[feature_to_remove])\n",
    "    else:\n",
    "        break  # Stop if the highest p-value is below the threshold\n",
    "\n",
    "# Display the selected features\n",
    "selected_features = X.columns[1:]  # Exclude the constant term\n",
    "print(\"Selected Features:\", selected_features)"
   ]
  },
  {
   "cell_type": "code",
   "execution_count": null,
   "id": "3636b68e",
   "metadata": {},
   "outputs": [],
   "source": []
  }
 ],
 "metadata": {
  "kernelspec": {
   "display_name": "Python 3 (ipykernel)",
   "language": "python",
   "name": "python3"
  },
  "language_info": {
   "codemirror_mode": {
    "name": "ipython",
    "version": 3
   },
   "file_extension": ".py",
   "mimetype": "text/x-python",
   "name": "python",
   "nbconvert_exporter": "python",
   "pygments_lexer": "ipython3",
   "version": "3.9.13"
  }
 },
 "nbformat": 4,
 "nbformat_minor": 5
}
